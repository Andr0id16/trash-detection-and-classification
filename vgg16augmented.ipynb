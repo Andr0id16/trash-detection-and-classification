{
 "cells": [
  {
   "cell_type": "code",
   "execution_count": 2,
   "metadata": {},
   "outputs": [],
   "source": [
    "import matplotlib.pyplot as plt\n",
    "import numpy as np\n",
    "import PIL\n",
    "import tensorflow as tf\n",
    "from tensorflow.keras import layers\n",
    "from tensorflow.keras.layers import Dense, Flatten\n",
    "from tensorflow.keras.models import Sequential\n",
    "from tensorflow.keras.optimizers import Adam"
   ]
  },
  {
   "cell_type": "code",
   "execution_count": 3,
   "metadata": {},
   "outputs": [],
   "source": [
    "import pathlib\n",
    "\n",
    "\n",
    "data_dir = r\"C:\\Users\\prach\\OneDrive\\Desktop\\internshipcdsaml\\Dataset\\Aggregate\"\n",
    "data_dir = pathlib.Path(data_dir)"
   ]
  },
  {
   "cell_type": "code",
   "execution_count": 4,
   "metadata": {},
   "outputs": [
    {
     "name": "stdout",
     "output_type": "stream",
     "text": [
      "Found 6956 files belonging to 5 classes.\n",
      "Using 5565 files for training.\n"
     ]
    }
   ],
   "source": [
    "img_height,img_width=256,256\n",
    "batch_size=32\n",
    "train_ds = tf.keras.preprocessing.image_dataset_from_directory(\n",
    "  data_dir,\n",
    "  validation_split=0.2,\n",
    "  subset=\"training\",\n",
    "  seed=123,\n",
    "  image_size=(img_height, img_width),\n",
    "  batch_size=batch_size)"
   ]
  },
  {
   "cell_type": "code",
   "execution_count": 5,
   "metadata": {},
   "outputs": [
    {
     "name": "stdout",
     "output_type": "stream",
     "text": [
      "Found 6956 files belonging to 5 classes.\n",
      "Using 1391 files for validation.\n"
     ]
    }
   ],
   "source": [
    "val_ds = tf.keras.preprocessing.image_dataset_from_directory(\n",
    "  data_dir,\n",
    "  validation_split=0.2,\n",
    "  subset=\"validation\",\n",
    "  seed=123,\n",
    "  image_size=(img_height, img_width),\n",
    "  batch_size=batch_size)"
   ]
  },
  {
   "cell_type": "code",
   "execution_count": 7,
   "metadata": {},
   "outputs": [],
   "source": [
    "vgg16_augmented_model = Sequential()\n",
    "\n",
    "pretrained_model= tf.keras.applications.VGG16(include_top=False,\n",
    "                   input_shape=(256,256,3),\n",
    "                   pooling='avg',classes=5,\n",
    "                   weights='imagenet')\n",
    "for layer in pretrained_model.layers:\n",
    "        layer.trainable=False\n",
    "\n",
    "data_augmentation = tf.keras.Sequential([\n",
    "  layers.RandomFlip(\"horizontal_and_vertical\"),\n",
    "  layers.RandomRotation(0.2),\n",
    "])\n",
    "\n",
    "vgg16_augmented_model.add(data_augmentation)\n",
    "vgg16_augmented_model.add(pretrained_model)"
   ]
  },
  {
   "cell_type": "code",
   "execution_count": 8,
   "metadata": {},
   "outputs": [],
   "source": [
    "vgg16_augmented_model.add(Flatten())\n",
    "vgg16_augmented_model.add(Dense(512, activation='relu'))\n",
    "vgg16_augmented_model.add(Dense(5, activation='softmax'))"
   ]
  },
  {
   "cell_type": "code",
   "execution_count": 10,
   "metadata": {},
   "outputs": [
    {
     "name": "stdout",
     "output_type": "stream",
     "text": [
      "Model: \"sequential_1\"\n",
      "_________________________________________________________________\n",
      " Layer (type)                Output Shape              Param #   \n",
      "=================================================================\n",
      " sequential_2 (Sequential)   (None, 256, 256, 3)       0         \n",
      "                                                                 \n",
      " vgg16 (Functional)          (None, 512)               14714688  \n",
      "                                                                 \n",
      " flatten (Flatten)           (None, 512)               0         \n",
      "                                                                 \n",
      " dense (Dense)               (None, 512)               262656    \n",
      "                                                                 \n",
      " dense_1 (Dense)             (None, 5)                 2565      \n",
      "                                                                 \n",
      "=================================================================\n",
      "Total params: 14,979,909\n",
      "Trainable params: 265,221\n",
      "Non-trainable params: 14,714,688\n",
      "_________________________________________________________________\n"
     ]
    }
   ],
   "source": [
    "vgg16_augmented_model.build(input_shape=(None,256,256,3))\n",
    "vgg16_augmented_model.summary()"
   ]
  },
  {
   "cell_type": "code",
   "execution_count": 11,
   "metadata": {},
   "outputs": [
    {
     "name": "stdout",
     "output_type": "stream",
     "text": [
      "Epoch 1/10\n"
     ]
    },
    {
     "name": "stderr",
     "output_type": "stream",
     "text": [
      "c:\\Users\\prach\\miniconda3\\envs\\tf\\lib\\site-packages\\keras\\optimizers\\optimizer_v2\\adam.py:110: UserWarning: The `lr` argument is deprecated, use `learning_rate` instead.\n",
      "  super(Adam, self).__init__(name, **kwargs)\n"
     ]
    },
    {
     "name": "stdout",
     "output_type": "stream",
     "text": [
      "174/174 [==============================] - 117s 567ms/step - loss: 0.9872 - accuracy: 0.7141 - val_loss: 0.6548 - val_accuracy: 0.7944\n",
      "Epoch 2/10\n",
      "174/174 [==============================] - 118s 673ms/step - loss: 0.5382 - accuracy: 0.8075 - val_loss: 0.5934 - val_accuracy: 0.8224\n",
      "Epoch 3/10\n",
      "174/174 [==============================] - 123s 699ms/step - loss: 0.4340 - accuracy: 0.8451 - val_loss: 0.5438 - val_accuracy: 0.8303\n",
      "Epoch 4/10\n",
      "174/174 [==============================] - 123s 699ms/step - loss: 0.3865 - accuracy: 0.8559 - val_loss: 0.5359 - val_accuracy: 0.8289\n",
      "Epoch 5/10\n",
      "174/174 [==============================] - 124s 706ms/step - loss: 0.3665 - accuracy: 0.8647 - val_loss: 0.5547 - val_accuracy: 0.8289\n",
      "Epoch 6/10\n",
      "174/174 [==============================] - 124s 707ms/step - loss: 0.3222 - accuracy: 0.8812 - val_loss: 0.5258 - val_accuracy: 0.8354\n",
      "Epoch 7/10\n",
      "174/174 [==============================] - 124s 705ms/step - loss: 0.2873 - accuracy: 0.8933 - val_loss: 0.4908 - val_accuracy: 0.8497\n",
      "Epoch 8/10\n",
      "174/174 [==============================] - 123s 704ms/step - loss: 0.2735 - accuracy: 0.8996 - val_loss: 0.5164 - val_accuracy: 0.8454\n",
      "Epoch 9/10\n",
      "174/174 [==============================] - 124s 706ms/step - loss: 0.2553 - accuracy: 0.9057 - val_loss: 0.5741 - val_accuracy: 0.8354\n",
      "Epoch 10/10\n",
      "174/174 [==============================] - 124s 704ms/step - loss: 0.2480 - accuracy: 0.9087 - val_loss: 0.5323 - val_accuracy: 0.8447\n"
     ]
    }
   ],
   "source": [
    "vgg16_augmented_model.compile(optimizer=Adam(lr=0.001),loss='sparse_categorical_crossentropy',metrics=['accuracy'])\n",
    "\n",
    "history_vgg16_augmented = vgg16_augmented_model.fit(train_ds, validation_data=val_ds, epochs=10)"
   ]
  }
 ],
 "metadata": {
  "kernelspec": {
   "display_name": "Python 3.9.12 ('tf')",
   "language": "python",
   "name": "python3"
  },
  "language_info": {
   "codemirror_mode": {
    "name": "ipython",
    "version": 3
   },
   "file_extension": ".py",
   "mimetype": "text/x-python",
   "name": "python",
   "nbconvert_exporter": "python",
   "pygments_lexer": "ipython3",
   "version": "3.9.12"
  },
  "orig_nbformat": 4,
  "vscode": {
   "interpreter": {
    "hash": "af8b6682a4a321ce18b40cbcb23f3f7983fed78dadc21c98534f15e5f504646b"
   }
  }
 },
 "nbformat": 4,
 "nbformat_minor": 2
}
