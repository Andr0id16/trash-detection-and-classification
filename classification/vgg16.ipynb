{
 "cells": [
  {
   "cell_type": "markdown",
   "metadata": {},
   "source": [
    "# Importing Libraries"
   ]
  },
  {
   "cell_type": "code",
   "execution_count": 1,
   "metadata": {},
   "outputs": [],
   "source": [
    "import matplotlib.pyplot as plt\n",
    "import numpy as np\n",
    "import PIL\n",
    "import tensorflow as tf\n",
    "from tensorflow.keras import layers\n",
    "from tensorflow.keras.layers import Dense, Flatten\n",
    "from tensorflow.keras.models import Sequential\n",
    "from tensorflow.keras.optimizers import Adam"
   ]
  },
  {
   "cell_type": "markdown",
   "metadata": {},
   "source": [
    "# Setting Path to the Dataset"
   ]
  },
  {
   "cell_type": "code",
   "execution_count": 2,
   "metadata": {},
   "outputs": [],
   "source": [
    "import pathlib\n",
    "\n",
    "\n",
    "data_dir = r\"C:\\Users\\prach\\OneDrive\\Desktop\\internshipcdsaml\\Dataset\\Aggregate\"\n",
    "data_dir = pathlib.Path(data_dir)"
   ]
  },
  {
   "cell_type": "markdown",
   "metadata": {},
   "source": [
    "# Obtaining Dataset"
   ]
  },
  {
   "cell_type": "code",
   "execution_count": 3,
   "metadata": {},
   "outputs": [
    {
     "name": "stdout",
     "output_type": "stream",
     "text": [
      "Found 6956 files belonging to 5 classes.\n",
      "Using 5565 files for training.\n"
     ]
    }
   ],
   "source": [
    "img_height,img_width=256,256\n",
    "batch_size=32\n",
    "train_ds = tf.keras.preprocessing.image_dataset_from_directory(\n",
    "  data_dir,\n",
    "  validation_split=0.2,\n",
    "  subset=\"training\",\n",
    "  seed=123,\n",
    "  image_size=(img_height, img_width),\n",
    "  batch_size=batch_size)"
   ]
  },
  {
   "cell_type": "code",
   "execution_count": 4,
   "metadata": {},
   "outputs": [
    {
     "name": "stdout",
     "output_type": "stream",
     "text": [
      "Found 6956 files belonging to 5 classes.\n",
      "Using 1391 files for validation.\n"
     ]
    }
   ],
   "source": [
    "val_ds = tf.keras.preprocessing.image_dataset_from_directory(\n",
    "  data_dir,\n",
    "  validation_split=0.2,\n",
    "  subset=\"validation\",\n",
    "  seed=123,\n",
    "  image_size=(img_height, img_width),\n",
    "  batch_size=batch_size)"
   ]
  },
  {
   "cell_type": "markdown",
   "metadata": {},
   "source": [
    "# VGG 16 MODEL"
   ]
  },
  {
   "cell_type": "code",
   "execution_count": 5,
   "metadata": {},
   "outputs": [],
   "source": [
    "vgg16_model = Sequential()\n",
    "\n",
    "pretrained_model= tf.keras.applications.VGG16(include_top=False,\n",
    "                   input_shape=(256,256,3),\n",
    "                   pooling='avg',classes=5,\n",
    "                   weights='imagenet')\n",
    "for layer in pretrained_model.layers:\n",
    "        layer.trainable=False\n",
    "\n",
    "vgg16_model.add(pretrained_model)"
   ]
  },
  {
   "cell_type": "code",
   "execution_count": 6,
   "metadata": {},
   "outputs": [],
   "source": [
    "vgg16_model.add(Flatten())\n",
    "vgg16_model.add(Dense(512, activation='relu'))\n",
    "vgg16_model.add(Dense(5, activation='softmax'))"
   ]
  },
  {
   "cell_type": "code",
   "execution_count": 7,
   "metadata": {},
   "outputs": [
    {
     "name": "stdout",
     "output_type": "stream",
     "text": [
      "Model: \"sequential\"\n",
      "_________________________________________________________________\n",
      " Layer (type)                Output Shape              Param #   \n",
      "=================================================================\n",
      " vgg16 (Functional)          (None, 512)               14714688  \n",
      "                                                                 \n",
      " flatten (Flatten)           (None, 512)               0         \n",
      "                                                                 \n",
      " dense (Dense)               (None, 512)               262656    \n",
      "                                                                 \n",
      " dense_1 (Dense)             (None, 5)                 2565      \n",
      "                                                                 \n",
      "=================================================================\n",
      "Total params: 14,979,909\n",
      "Trainable params: 265,221\n",
      "Non-trainable params: 14,714,688\n",
      "_________________________________________________________________\n"
     ]
    }
   ],
   "source": [
    "vgg16_model.summary()"
   ]
  },
  {
   "cell_type": "code",
   "execution_count": 8,
   "metadata": {},
   "outputs": [
    {
     "name": "stdout",
     "output_type": "stream",
     "text": [
      "Epoch 1/10\n"
     ]
    },
    {
     "name": "stderr",
     "output_type": "stream",
     "text": [
      "c:\\Users\\prach\\miniconda3\\envs\\tf\\lib\\site-packages\\keras\\optimizers\\optimizer_v2\\adam.py:110: UserWarning: The `lr` argument is deprecated, use `learning_rate` instead.\n",
      "  super(Adam, self).__init__(name, **kwargs)\n"
     ]
    },
    {
     "name": "stdout",
     "output_type": "stream",
     "text": [
      "174/174 [==============================] - 107s 524ms/step - loss: 0.9807 - accuracy: 0.7423 - val_loss: 0.5743 - val_accuracy: 0.8066\n",
      "Epoch 2/10\n",
      "174/174 [==============================] - 100s 570ms/step - loss: 0.3545 - accuracy: 0.8713 - val_loss: 0.5279 - val_accuracy: 0.8253\n",
      "Epoch 3/10\n",
      "174/174 [==============================] - 112s 637ms/step - loss: 0.2358 - accuracy: 0.9134 - val_loss: 0.5675 - val_accuracy: 0.8253\n",
      "Epoch 4/10\n",
      "174/174 [==============================] - 112s 636ms/step - loss: 0.1531 - accuracy: 0.9434 - val_loss: 0.5404 - val_accuracy: 0.8512\n",
      "Epoch 5/10\n",
      "174/174 [==============================] - 112s 635ms/step - loss: 0.0987 - accuracy: 0.9678 - val_loss: 0.5343 - val_accuracy: 0.8462\n",
      "Epoch 6/10\n",
      "174/174 [==============================] - 112s 636ms/step - loss: 0.0597 - accuracy: 0.9851 - val_loss: 0.5744 - val_accuracy: 0.8483\n",
      "Epoch 7/10\n",
      "174/174 [==============================] - 112s 638ms/step - loss: 0.0580 - accuracy: 0.9862 - val_loss: 0.5840 - val_accuracy: 0.8541\n",
      "Epoch 8/10\n",
      "174/174 [==============================] - 112s 635ms/step - loss: 0.0393 - accuracy: 0.9903 - val_loss: 0.5767 - val_accuracy: 0.8584\n",
      "Epoch 9/10\n",
      "174/174 [==============================] - 112s 637ms/step - loss: 0.0237 - accuracy: 0.9957 - val_loss: 0.6276 - val_accuracy: 0.8519\n",
      "Epoch 10/10\n",
      "174/174 [==============================] - 111s 634ms/step - loss: 0.0159 - accuracy: 0.9986 - val_loss: 0.6669 - val_accuracy: 0.8505\n"
     ]
    }
   ],
   "source": [
    "vgg16_model.compile(optimizer=Adam(lr=0.001),loss='sparse_categorical_crossentropy',metrics=['accuracy'])\n",
    "\n",
    "history_vgg16 = vgg16_model.fit(train_ds, validation_data=val_ds, epochs=10)"
   ]
  },
  {
   "cell_type": "markdown",
   "metadata": {},
   "source": [
    "# VGG 19 MODEL"
   ]
  },
  {
   "cell_type": "code",
   "execution_count": 9,
   "metadata": {},
   "outputs": [
    {
     "name": "stdout",
     "output_type": "stream",
     "text": [
      "Downloading data from https://storage.googleapis.com/tensorflow/keras-applications/vgg19/vgg19_weights_tf_dim_ordering_tf_kernels_notop.h5\n",
      "80134624/80134624 [==============================] - 155s 2us/step\n"
     ]
    }
   ],
   "source": [
    "vgg19_model = Sequential()\n",
    "\n",
    "pretrained_model= tf.keras.applications.VGG19(include_top=False,\n",
    "                   input_shape=(256,256,3),\n",
    "                   pooling='avg',classes=5,\n",
    "                   weights='imagenet')\n",
    "for layer in pretrained_model.layers:\n",
    "        layer.trainable=False\n",
    "\n",
    "vgg19_model.add(pretrained_model)"
   ]
  },
  {
   "cell_type": "code",
   "execution_count": 11,
   "metadata": {},
   "outputs": [],
   "source": [
    "vgg19_model.add(Flatten())\n",
    "vgg19_model.add(Dense(512, activation='relu'))\n",
    "vgg19_model.add(Dense(5, activation='softmax'))\n"
   ]
  },
  {
   "cell_type": "code",
   "execution_count": 12,
   "metadata": {},
   "outputs": [
    {
     "name": "stdout",
     "output_type": "stream",
     "text": [
      "Model: \"sequential_1\"\n",
      "_________________________________________________________________\n",
      " Layer (type)                Output Shape              Param #   \n",
      "=================================================================\n",
      " vgg19 (Functional)          (None, 512)               20024384  \n",
      "                                                                 \n",
      " flatten_1 (Flatten)         (None, 512)               0         \n",
      "                                                                 \n",
      " dense_2 (Dense)             (None, 512)               262656    \n",
      "                                                                 \n",
      " dense_3 (Dense)             (None, 5)                 2565      \n",
      "                                                                 \n",
      "=================================================================\n",
      "Total params: 20,289,605\n",
      "Trainable params: 265,221\n",
      "Non-trainable params: 20,024,384\n",
      "_________________________________________________________________\n"
     ]
    }
   ],
   "source": [
    "vgg19_model.summary()"
   ]
  },
  {
   "cell_type": "code",
   "execution_count": 13,
   "metadata": {},
   "outputs": [
    {
     "name": "stdout",
     "output_type": "stream",
     "text": [
      "Epoch 1/10\n",
      "174/174 [==============================] - 111s 627ms/step - loss: 0.9288 - accuracy: 0.7432 - val_loss: 0.5329 - val_accuracy: 0.8073\n",
      "Epoch 2/10\n",
      "174/174 [==============================] - 131s 744ms/step - loss: 0.3678 - accuracy: 0.8685 - val_loss: 0.4976 - val_accuracy: 0.8469\n",
      "Epoch 3/10\n",
      "174/174 [==============================] - 131s 748ms/step - loss: 0.2467 - accuracy: 0.9066 - val_loss: 0.4834 - val_accuracy: 0.8490\n",
      "Epoch 4/10\n",
      "174/174 [==============================] - 132s 751ms/step - loss: 0.1629 - accuracy: 0.9441 - val_loss: 0.5477 - val_accuracy: 0.8411\n",
      "Epoch 5/10\n",
      "174/174 [==============================] - 133s 755ms/step - loss: 0.1108 - accuracy: 0.9632 - val_loss: 0.6265 - val_accuracy: 0.8167\n",
      "Epoch 6/10\n",
      "174/174 [==============================] - 132s 750ms/step - loss: 0.0884 - accuracy: 0.9702 - val_loss: 0.5311 - val_accuracy: 0.8512\n",
      "Epoch 7/10\n",
      "174/174 [==============================] - 132s 751ms/step - loss: 0.0637 - accuracy: 0.9811 - val_loss: 0.5355 - val_accuracy: 0.8440\n",
      "Epoch 8/10\n",
      "174/174 [==============================] - 131s 747ms/step - loss: 0.0349 - accuracy: 0.9939 - val_loss: 0.5512 - val_accuracy: 0.8519\n",
      "Epoch 9/10\n",
      "174/174 [==============================] - 132s 751ms/step - loss: 0.0200 - accuracy: 0.9977 - val_loss: 0.6034 - val_accuracy: 0.8526\n",
      "Epoch 10/10\n",
      "174/174 [==============================] - 132s 750ms/step - loss: 0.0113 - accuracy: 0.9995 - val_loss: 0.5778 - val_accuracy: 0.8541\n"
     ]
    }
   ],
   "source": [
    "vgg19_model.compile(optimizer=Adam(lr=0.001),loss='sparse_categorical_crossentropy',metrics=['accuracy'])\n",
    "\n",
    "history_vgg19 = vgg19_model.fit(train_ds, validation_data=val_ds, epochs=10)"
   ]
  }
 ],
 "metadata": {
  "kernelspec": {
   "display_name": "Python 3.9.12 ('tf')",
   "language": "python",
   "name": "python3"
  },
  "language_info": {
   "codemirror_mode": {
    "name": "ipython",
    "version": 3
   },
   "file_extension": ".py",
   "mimetype": "text/x-python",
   "name": "python",
   "nbconvert_exporter": "python",
   "pygments_lexer": "ipython3",
   "version": "3.9.12"
  },
  "orig_nbformat": 4,
  "vscode": {
   "interpreter": {
    "hash": "af8b6682a4a321ce18b40cbcb23f3f7983fed78dadc21c98534f15e5f504646b"
   }
  }
 },
 "nbformat": 4,
 "nbformat_minor": 2
}
